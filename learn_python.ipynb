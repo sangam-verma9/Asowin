{
  "nbformat": 4,
  "nbformat_minor": 0,
  "metadata": {
    "colab": {
      "provenance": [],
      "authorship_tag": "ABX9TyM9HLf0uGs+8xgS4CNxA3EK",
      "include_colab_link": true
    },
    "kernelspec": {
      "name": "python3",
      "display_name": "Python 3"
    },
    "language_info": {
      "name": "python"
    }
  },
  "cells": [
    {
      "cell_type": "markdown",
      "metadata": {
        "id": "view-in-github",
        "colab_type": "text"
      },
      "source": [
        "<a href=\"https://colab.research.google.com/github/sangam-verma9/Asowin/blob/main/learn_python.ipynb\" target=\"_parent\"><img src=\"https://colab.research.google.com/assets/colab-badge.svg\" alt=\"Open In Colab\"/></a>"
      ]
    },
    {
      "cell_type": "markdown",
      "source": [
        "HI this is pyton tutorial"
      ],
      "metadata": {
        "id": "6-DDFsKV9YZQ"
      }
    },
    {
      "cell_type": "markdown",
      "source": [
        "**Learning python**"
      ],
      "metadata": {
        "id": "HYbz72B4-hJP"
      }
    },
    {
      "cell_type": "code",
      "execution_count": null,
      "metadata": {
        "id": "DgG3xecA88mN"
      },
      "outputs": [],
      "source": [
        "a=10"
      ]
    },
    {
      "cell_type": "code",
      "source": [
        "type(a)"
      ],
      "metadata": {
        "colab": {
          "base_uri": "https://localhost:8080/"
        },
        "id": "Xwwg2_1g_3BJ",
        "outputId": "d47ea463-c55c-4efa-8f51-bf1b10e4e567"
      },
      "execution_count": null,
      "outputs": [
        {
          "output_type": "execute_result",
          "data": {
            "text/plain": [
              "int"
            ]
          },
          "metadata": {},
          "execution_count": 2
        }
      ]
    },
    {
      "cell_type": "code",
      "source": [
        "a='ajfdlksdjlfksd'"
      ],
      "metadata": {
        "id": "bO7Bx2j8_5hK"
      },
      "execution_count": null,
      "outputs": []
    },
    {
      "cell_type": "code",
      "source": [
        "print(a)"
      ],
      "metadata": {
        "colab": {
          "base_uri": "https://localhost:8080/"
        },
        "id": "yUL0Fxrz_9-l",
        "outputId": "c0d26523-2d64-42b1-d665-0b4c5c0beec8"
      },
      "execution_count": null,
      "outputs": [
        {
          "output_type": "stream",
          "name": "stdout",
          "text": [
            "ajfdlksdjlfksd\n"
          ]
        }
      ]
    },
    {
      "cell_type": "code",
      "source": [
        "ram=\"ram verma\""
      ],
      "metadata": {
        "id": "T6yk0EKNBMXz"
      },
      "execution_count": 1,
      "outputs": []
    },
    {
      "cell_type": "code",
      "source": [
        "ram"
      ],
      "metadata": {
        "colab": {
          "base_uri": "https://localhost:8080/",
          "height": 36
        },
        "id": "uyw255FE5q6r",
        "outputId": "9b4916f1-326c-45d7-f738-e7a9116bbd33"
      },
      "execution_count": 2,
      "outputs": [
        {
          "output_type": "execute_result",
          "data": {
            "text/plain": [
              "'ram verma'"
            ],
            "application/vnd.google.colaboratory.intrinsic+json": {
              "type": "string"
            }
          },
          "metadata": {},
          "execution_count": 2
        }
      ]
    },
    {
      "cell_type": "code",
      "source": [],
      "metadata": {
        "id": "K98wfhtn5szA"
      },
      "execution_count": null,
      "outputs": []
    }
  ]
}